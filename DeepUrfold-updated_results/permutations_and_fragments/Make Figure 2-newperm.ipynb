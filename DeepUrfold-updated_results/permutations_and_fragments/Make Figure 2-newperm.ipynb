{
 "cells": [
  {
   "cell_type": "code",
   "execution_count": 1,
   "id": "6831e53d",
   "metadata": {},
   "outputs": [],
   "source": [
    "import torch"
   ]
  },
  {
   "cell_type": "code",
   "execution_count": 2,
   "id": "f6fc0b4f",
   "metadata": {},
   "outputs": [],
   "source": [
    "sh3frag_to_SH3model = torch.load(\"2ylbC00_TERMs-elbo-elbo.pt\")"
   ]
  },
  {
   "cell_type": "code",
   "execution_count": 58,
   "id": "f4f7fd71",
   "metadata": {},
   "outputs": [],
   "source": [
    "import numpy as np\n",
    "sh3frag_to_SH3model_labels = np.load(\"2ylbC00_TERMs-labels-elbo-labels-elbo.npy\")\n",
    "sh3frag_to_SH3model_pd = pd.DataFrame({\"elbo\":sh3frag_to_SH3model, \"labels\":sh3frag_to_SH3model_labels}).set_index(\"labels\")"
   ]
  },
  {
   "cell_type": "code",
   "execution_count": 62,
   "id": "c9da7d60",
   "metadata": {},
   "outputs": [
    {
     "data": {
      "text/html": [
       "<div>\n",
       "<style scoped>\n",
       "    .dataframe tbody tr th:only-of-type {\n",
       "        vertical-align: middle;\n",
       "    }\n",
       "\n",
       "    .dataframe tbody tr th {\n",
       "        vertical-align: top;\n",
       "    }\n",
       "\n",
       "    .dataframe thead th {\n",
       "        text-align: right;\n",
       "    }\n",
       "</style>\n",
       "<table border=\"1\" class=\"dataframe\">\n",
       "  <thead>\n",
       "    <tr style=\"text-align: right;\">\n",
       "      <th></th>\n",
       "      <th>elbo</th>\n",
       "    </tr>\n",
       "    <tr>\n",
       "      <th>labels</th>\n",
       "      <th></th>\n",
       "    </tr>\n",
       "  </thead>\n",
       "  <tbody>\n",
       "    <tr>\n",
       "      <th>2ylbC00_C66.pdb</th>\n",
       "      <td>0.084174</td>\n",
       "    </tr>\n",
       "    <tr>\n",
       "      <th>2ylbC00_C4.pdb</th>\n",
       "      <td>0.088349</td>\n",
       "    </tr>\n",
       "    <tr>\n",
       "      <th>2ylbC00_C19.pdb</th>\n",
       "      <td>0.088706</td>\n",
       "    </tr>\n",
       "    <tr>\n",
       "      <th>2ylbC00_C67.pdb</th>\n",
       "      <td>0.089883</td>\n",
       "    </tr>\n",
       "    <tr>\n",
       "      <th>2ylbC00_C49.pdb</th>\n",
       "      <td>0.090226</td>\n",
       "    </tr>\n",
       "    <tr>\n",
       "      <th>...</th>\n",
       "      <td>...</td>\n",
       "    </tr>\n",
       "    <tr>\n",
       "      <th>2ylbC00_C13.pdb</th>\n",
       "      <td>0.140061</td>\n",
       "    </tr>\n",
       "    <tr>\n",
       "      <th>2ylbC00_C45.pdb</th>\n",
       "      <td>0.140097</td>\n",
       "    </tr>\n",
       "    <tr>\n",
       "      <th>2ylbC00_C55.pdb</th>\n",
       "      <td>0.140155</td>\n",
       "    </tr>\n",
       "    <tr>\n",
       "      <th>2ylbC00_C54.pdb</th>\n",
       "      <td>0.140831</td>\n",
       "    </tr>\n",
       "    <tr>\n",
       "      <th>2ylbC00_C46.pdb</th>\n",
       "      <td>0.149861</td>\n",
       "    </tr>\n",
       "  </tbody>\n",
       "</table>\n",
       "<p>68 rows × 1 columns</p>\n",
       "</div>"
      ],
      "text/plain": [
       "                     elbo\n",
       "labels                   \n",
       "2ylbC00_C66.pdb  0.084174\n",
       "2ylbC00_C4.pdb   0.088349\n",
       "2ylbC00_C19.pdb  0.088706\n",
       "2ylbC00_C67.pdb  0.089883\n",
       "2ylbC00_C49.pdb  0.090226\n",
       "...                   ...\n",
       "2ylbC00_C13.pdb  0.140061\n",
       "2ylbC00_C45.pdb  0.140097\n",
       "2ylbC00_C55.pdb  0.140155\n",
       "2ylbC00_C54.pdb  0.140831\n",
       "2ylbC00_C46.pdb  0.149861\n",
       "\n",
       "[68 rows x 1 columns]"
      ]
     },
     "execution_count": 62,
     "metadata": {},
     "output_type": "execute_result"
    }
   ],
   "source": [
    "sh3frag_to_SH3model_pd.sort_values(\"elbo\")"
   ]
  },
  {
   "cell_type": "code",
   "execution_count": 50,
   "id": "55a4b6b0",
   "metadata": {},
   "outputs": [],
   "source": [
    "sh3frag_to_OBmodel = torch.load(\"2ylbC00_TERMs_to_OB_model-elbo-elbo.pt\")"
   ]
  },
  {
   "cell_type": "code",
   "execution_count": 51,
   "id": "0bcc94fc",
   "metadata": {},
   "outputs": [],
   "source": [
    "sh3frag_to_OBmodel_old = torch.load(\"1u1sA00_frags_vs_OB_elbo-elbo-elbo.pt\")"
   ]
  },
  {
   "cell_type": "code",
   "execution_count": 52,
   "id": "856d0389",
   "metadata": {},
   "outputs": [
    {
     "data": {
      "text/plain": [
       "tensor([0.1035, 0.1245, 0.1168, 0.1558, 0.0920, 0.1217, 0.0879, 0.1537, 0.0889,\n",
       "        0.0840, 0.1111, 0.0996, 0.1017, 0.1307, 0.1234, 0.1431, 0.1098, 0.1243,\n",
       "        0.1099, 0.0955, 0.1288, 0.1316, 0.1137, 0.1383, 0.1075, 0.0966, 0.1261,\n",
       "        0.1256, 0.1475, 0.1159, 0.0869, 0.1237, 0.1307, 0.1187, 0.1296, 0.1285,\n",
       "        0.1360, 0.1250, 0.1317, 0.1130, 0.0907, 0.0970, 0.0922, 0.1210, 0.1088,\n",
       "        0.1314, 0.1273, 0.1395, 0.1039, 0.1391, 0.1273, 0.1312, 0.1013, 0.1320,\n",
       "        0.1000, 0.1175, 0.1504, 0.1196, 0.1059, 0.0808, 0.0862, 0.1160, 0.1008,\n",
       "        0.1520, 0.1344, 0.1024, 0.0959, 0.0982])"
      ]
     },
     "execution_count": 52,
     "metadata": {},
     "output_type": "execute_result"
    }
   ],
   "source": [
    "sh3frag_to_OBmodel"
   ]
  },
  {
   "cell_type": "code",
   "execution_count": 53,
   "id": "a5ba11be",
   "metadata": {},
   "outputs": [
    {
     "data": {
      "text/plain": [
       "tensor([0.0901, 0.1532, 0.1158, 0.1370, 0.1119, 0.1205, 0.0865, 0.1370, 0.1274,\n",
       "        0.0820, 0.1128, 0.0966, 0.0956, 0.1125, 0.1209, 0.1319, 0.1100, 0.1325,\n",
       "        0.1112, 0.0963, 0.1367, 0.1304, 0.1150, 0.1316, 0.1114, 0.0984, 0.1291,\n",
       "        0.1225, 0.1445, 0.1158, 0.1236, 0.1274, 0.1187, 0.1212, 0.1163, 0.1267,\n",
       "        0.1226, 0.1134, 0.1116, 0.0866, 0.1000, 0.1162, 0.1000, 0.1381, 0.1242,\n",
       "        0.1402, 0.1224, 0.1430, 0.1233, 0.1301, 0.0990, 0.1325, 0.1265, 0.1291,\n",
       "        0.1426, 0.1157, 0.1017, 0.0847, 0.0846, 0.1134, 0.0916, 0.1532, 0.0971,\n",
       "        0.0901, 0.0940, 0.0990])"
      ]
     },
     "execution_count": 53,
     "metadata": {},
     "output_type": "execute_result"
    }
   ],
   "source": [
    "sh3frag_to_OBmodel_old"
   ]
  },
  {
   "cell_type": "code",
   "execution_count": 56,
   "id": "ac33a71f",
   "metadata": {},
   "outputs": [
    {
     "data": {
      "text/plain": [
       "(tensor(0.1532), tensor(0.1558))"
      ]
     },
     "execution_count": 56,
     "metadata": {},
     "output_type": "execute_result"
    }
   ],
   "source": [
    "sh3frag_to_OBmodel_old.max(), sh3frag_to_OBmodel.max()"
   ]
  },
  {
   "cell_type": "code",
   "execution_count": 4,
   "id": "fec7f757",
   "metadata": {},
   "outputs": [],
   "source": [
    "obfrag_to_SH3model = torch.load(\"1bkbA02_frags_vs_SH3_elbo-elbo-elbo.pt\")"
   ]
  },
  {
   "cell_type": "code",
   "execution_count": 5,
   "id": "5d8e6d36",
   "metadata": {},
   "outputs": [],
   "source": [
    "obfrag_to_OBmodel = torch.load(\"1bkbA02_frags_vs_OB_elbo-elbo-elbo.pt\")"
   ]
  },
  {
   "cell_type": "code",
   "execution_count": 65,
   "id": "b9763187",
   "metadata": {},
   "outputs": [],
   "source": [
    "obfrag_to_OBmodel_labels = np.load(\"1bkbA02_frags_vs_OB_elbo-labels-elbo-labels-elbo.npy\")\n",
    "obfrag_to_OBmodel_pd = pd.DataFrame({\"elbo\":obfrag_to_OBmodel, \"labels\":obfrag_to_OBmodel_labels}).set_index(\"labels\")"
   ]
  },
  {
   "cell_type": "code",
   "execution_count": 66,
   "id": "a58dd789",
   "metadata": {},
   "outputs": [
    {
     "data": {
      "text/html": [
       "<div>\n",
       "<style scoped>\n",
       "    .dataframe tbody tr th:only-of-type {\n",
       "        vertical-align: middle;\n",
       "    }\n",
       "\n",
       "    .dataframe tbody tr th {\n",
       "        vertical-align: top;\n",
       "    }\n",
       "\n",
       "    .dataframe thead th {\n",
       "        text-align: right;\n",
       "    }\n",
       "</style>\n",
       "<table border=\"1\" class=\"dataframe\">\n",
       "  <thead>\n",
       "    <tr style=\"text-align: right;\">\n",
       "      <th></th>\n",
       "      <th>elbo</th>\n",
       "    </tr>\n",
       "    <tr>\n",
       "      <th>labels</th>\n",
       "      <th></th>\n",
       "    </tr>\n",
       "  </thead>\n",
       "  <tbody>\n",
       "    <tr>\n",
       "      <th>1bkbA02_A116.pdb</th>\n",
       "      <td>0.082211</td>\n",
       "    </tr>\n",
       "    <tr>\n",
       "      <th>1bkbA02_A138.pdb</th>\n",
       "      <td>0.083192</td>\n",
       "    </tr>\n",
       "    <tr>\n",
       "      <th>1bkbA02_A99.pdb</th>\n",
       "      <td>0.086101</td>\n",
       "    </tr>\n",
       "    <tr>\n",
       "      <th>1bkbA02_A102.pdb</th>\n",
       "      <td>0.090108</td>\n",
       "    </tr>\n",
       "    <tr>\n",
       "      <th>1bkbA02_A131.pdb</th>\n",
       "      <td>0.091389</td>\n",
       "    </tr>\n",
       "    <tr>\n",
       "      <th>...</th>\n",
       "      <td>...</td>\n",
       "    </tr>\n",
       "    <tr>\n",
       "      <th>1bkbA02_A77.pdb</th>\n",
       "      <td>0.133639</td>\n",
       "    </tr>\n",
       "    <tr>\n",
       "      <th>1bkbA02_A78.pdb</th>\n",
       "      <td>0.135571</td>\n",
       "    </tr>\n",
       "    <tr>\n",
       "      <th>1bkbA02_A82.pdb</th>\n",
       "      <td>0.141394</td>\n",
       "    </tr>\n",
       "    <tr>\n",
       "      <th>1bkbA02_A115.pdb</th>\n",
       "      <td>0.145330</td>\n",
       "    </tr>\n",
       "    <tr>\n",
       "      <th>1bkbA02_A85.pdb</th>\n",
       "      <td>0.157505</td>\n",
       "    </tr>\n",
       "  </tbody>\n",
       "</table>\n",
       "<p>62 rows × 1 columns</p>\n",
       "</div>"
      ],
      "text/plain": [
       "                      elbo\n",
       "labels                    \n",
       "1bkbA02_A116.pdb  0.082211\n",
       "1bkbA02_A138.pdb  0.083192\n",
       "1bkbA02_A99.pdb   0.086101\n",
       "1bkbA02_A102.pdb  0.090108\n",
       "1bkbA02_A131.pdb  0.091389\n",
       "...                    ...\n",
       "1bkbA02_A77.pdb   0.133639\n",
       "1bkbA02_A78.pdb   0.135571\n",
       "1bkbA02_A82.pdb   0.141394\n",
       "1bkbA02_A115.pdb  0.145330\n",
       "1bkbA02_A85.pdb   0.157505\n",
       "\n",
       "[62 rows x 1 columns]"
      ]
     },
     "execution_count": 66,
     "metadata": {},
     "output_type": "execute_result"
    }
   ],
   "source": [
    "obfrag_to_OBmodel_pd.sort_values(\"elbo\")"
   ]
  },
  {
   "cell_type": "code",
   "execution_count": 6,
   "id": "eb1176aa",
   "metadata": {},
   "outputs": [
    {
     "data": {
      "text/plain": [
       "tensor([0.1031, 0.1246, 0.1236, 0.1401, 0.0948, 0.1231, 0.0926, 0.1397, 0.0934,\n",
       "        0.0887, 0.1151, 0.1041, 0.1098, 0.1314, 0.1401, 0.1323, 0.1241, 0.1215,\n",
       "        0.1048, 0.0959, 0.1224, 0.1282, 0.1336, 0.1302, 0.1098, 0.0980, 0.1354,\n",
       "        0.1357, 0.1346, 0.1252, 0.0883, 0.1170, 0.1185, 0.1122, 0.1267, 0.1380,\n",
       "        0.1401, 0.1499, 0.1242, 0.1111, 0.0902, 0.0985, 0.0943, 0.1333, 0.1046,\n",
       "        0.1372, 0.1408, 0.1402, 0.1024, 0.1278, 0.1271, 0.1373, 0.1010, 0.1196,\n",
       "        0.0981, 0.1315, 0.1324, 0.1256, 0.1011, 0.0842, 0.0899, 0.1206, 0.0993,\n",
       "        0.1333, 0.1305, 0.1005, 0.0935, 0.0996])"
      ]
     },
     "execution_count": 6,
     "metadata": {},
     "output_type": "execute_result"
    }
   ],
   "source": [
    "sh3frag_to_SH3model"
   ]
  },
  {
   "cell_type": "code",
   "execution_count": 7,
   "id": "12b37c9a",
   "metadata": {},
   "outputs": [],
   "source": [
    "import seaborn as sns"
   ]
  },
  {
   "cell_type": "code",
   "execution_count": 8,
   "id": "a4aa5ec1",
   "metadata": {},
   "outputs": [],
   "source": [
    "import matplotlib.pyplot as plt\n",
    "from matplotlib.offsetbox import OffsetImage, AnnotationBbox"
   ]
  },
  {
   "cell_type": "code",
   "execution_count": 9,
   "id": "69ab6a9d",
   "metadata": {},
   "outputs": [
    {
     "name": "stdout",
     "output_type": "stream",
     "text": [
      "Unable to run StochasticBlockModel without graph_tool\n",
      "Unable to run overlap_score without graph_tool\n",
      "INFO: Pandarallel will run on 16 workers.\n",
      "INFO: Pandarallel will use Memory file system to transfer data between the main process and workers.\n",
      "INFO: Pandarallel will run on 16 workers.\n",
      "INFO: Pandarallel will use Memory file system to transfer data between the main process and workers.\n"
     ]
    }
   ],
   "source": [
    "from DeepUrfold.Analysis.AllVsAll import get_representative_domains"
   ]
  },
  {
   "cell_type": "code",
   "execution_count": 10,
   "id": "1b2da5b6",
   "metadata": {},
   "outputs": [
    {
     "name": "stdout",
     "output_type": "stream",
     "text": [
      "['2.30.30.100', '2.40.50.140']\n"
     ]
    }
   ],
   "source": [
    "representatives = get_representative_domains([\"2.30.30.100\", \"2.40.50.140\"], \"/home/ed4bu/deepurfold-paper-2.h5\")"
   ]
  },
  {
   "cell_type": "code",
   "execution_count": 11,
   "id": "af2dd9a7",
   "metadata": {},
   "outputs": [
    {
     "data": {
      "text/html": [
       "<div>\n",
       "<style scoped>\n",
       "    .dataframe tbody tr th:only-of-type {\n",
       "        vertical-align: middle;\n",
       "    }\n",
       "\n",
       "    .dataframe tbody tr th {\n",
       "        vertical-align: top;\n",
       "    }\n",
       "\n",
       "    .dataframe thead th {\n",
       "        text-align: right;\n",
       "    }\n",
       "</style>\n",
       "<table border=\"1\" class=\"dataframe\">\n",
       "  <thead>\n",
       "    <tr style=\"text-align: right;\">\n",
       "      <th></th>\n",
       "      <th>cathDomain</th>\n",
       "      <th>superfamily</th>\n",
       "    </tr>\n",
       "  </thead>\n",
       "  <tbody>\n",
       "    <tr>\n",
       "      <th>0</th>\n",
       "      <td>2ylbC00</td>\n",
       "      <td>2.30.30.100</td>\n",
       "    </tr>\n",
       "    <tr>\n",
       "      <th>1</th>\n",
       "      <td>2vc8A00</td>\n",
       "      <td>2.30.30.100</td>\n",
       "    </tr>\n",
       "    <tr>\n",
       "      <th>2</th>\n",
       "      <td>5szdC00</td>\n",
       "      <td>2.30.30.100</td>\n",
       "    </tr>\n",
       "    <tr>\n",
       "      <th>3</th>\n",
       "      <td>3hfoB00</td>\n",
       "      <td>2.30.30.100</td>\n",
       "    </tr>\n",
       "    <tr>\n",
       "      <th>4</th>\n",
       "      <td>1mgqF00</td>\n",
       "      <td>2.30.30.100</td>\n",
       "    </tr>\n",
       "    <tr>\n",
       "      <th>...</th>\n",
       "      <td>...</td>\n",
       "      <td>...</td>\n",
       "    </tr>\n",
       "    <tr>\n",
       "      <th>222</th>\n",
       "      <td>1yvcA00</td>\n",
       "      <td>2.40.50.140</td>\n",
       "    </tr>\n",
       "    <tr>\n",
       "      <th>223</th>\n",
       "      <td>1d7qA00</td>\n",
       "      <td>2.40.50.140</td>\n",
       "    </tr>\n",
       "    <tr>\n",
       "      <th>224</th>\n",
       "      <td>3o2zP00</td>\n",
       "      <td>2.40.50.140</td>\n",
       "    </tr>\n",
       "    <tr>\n",
       "      <th>225</th>\n",
       "      <td>3o2zF00</td>\n",
       "      <td>2.40.50.140</td>\n",
       "    </tr>\n",
       "    <tr>\n",
       "      <th>226</th>\n",
       "      <td>1kxlA00</td>\n",
       "      <td>2.40.50.140</td>\n",
       "    </tr>\n",
       "  </tbody>\n",
       "</table>\n",
       "<p>283 rows × 2 columns</p>\n",
       "</div>"
      ],
      "text/plain": [
       "    cathDomain  superfamily\n",
       "0      2ylbC00  2.30.30.100\n",
       "1      2vc8A00  2.30.30.100\n",
       "2      5szdC00  2.30.30.100\n",
       "3      3hfoB00  2.30.30.100\n",
       "4      1mgqF00  2.30.30.100\n",
       "..         ...          ...\n",
       "222    1yvcA00  2.40.50.140\n",
       "223    1d7qA00  2.40.50.140\n",
       "224    3o2zP00  2.40.50.140\n",
       "225    3o2zF00  2.40.50.140\n",
       "226    1kxlA00  2.40.50.140\n",
       "\n",
       "[283 rows x 2 columns]"
      ]
     },
     "execution_count": 11,
     "metadata": {},
     "output_type": "execute_result"
    }
   ],
   "source": [
    "representatives"
   ]
  },
  {
   "cell_type": "code",
   "execution_count": 12,
   "id": "dd1bea01",
   "metadata": {},
   "outputs": [],
   "source": [
    "import pandas as pd"
   ]
  },
  {
   "cell_type": "code",
   "execution_count": 13,
   "id": "93730327",
   "metadata": {},
   "outputs": [],
   "source": [
    "sh3_elbo = pd.read_csv(\"/home/bournelab/DeepUrfold-updated_results/superfamily_models_results/2.30.30.100/elbo.csv\")"
   ]
  },
  {
   "cell_type": "code",
   "execution_count": 14,
   "id": "179b953b",
   "metadata": {},
   "outputs": [
    {
     "data": {
      "text/html": [
       "<div>\n",
       "<style scoped>\n",
       "    .dataframe tbody tr th:only-of-type {\n",
       "        vertical-align: middle;\n",
       "    }\n",
       "\n",
       "    .dataframe tbody tr th {\n",
       "        vertical-align: top;\n",
       "    }\n",
       "\n",
       "    .dataframe thead th {\n",
       "        text-align: right;\n",
       "    }\n",
       "</style>\n",
       "<table border=\"1\" class=\"dataframe\">\n",
       "  <thead>\n",
       "    <tr style=\"text-align: right;\">\n",
       "      <th></th>\n",
       "      <th>cathDomain</th>\n",
       "      <th>2.30.30.100</th>\n",
       "    </tr>\n",
       "  </thead>\n",
       "  <tbody>\n",
       "    <tr>\n",
       "      <th>0</th>\n",
       "      <td>1xmkA00</td>\n",
       "      <td>0.137814</td>\n",
       "    </tr>\n",
       "    <tr>\n",
       "      <th>1</th>\n",
       "      <td>4co8A00</td>\n",
       "      <td>0.139659</td>\n",
       "    </tr>\n",
       "    <tr>\n",
       "      <th>2</th>\n",
       "      <td>3iwfB00</td>\n",
       "      <td>0.135257</td>\n",
       "    </tr>\n",
       "    <tr>\n",
       "      <th>3</th>\n",
       "      <td>1r7jA00</td>\n",
       "      <td>0.139363</td>\n",
       "    </tr>\n",
       "    <tr>\n",
       "      <th>4</th>\n",
       "      <td>2fq3A00</td>\n",
       "      <td>0.132161</td>\n",
       "    </tr>\n",
       "    <tr>\n",
       "      <th>...</th>\n",
       "      <td>...</td>\n",
       "      <td>...</td>\n",
       "    </tr>\n",
       "    <tr>\n",
       "      <th>3669</th>\n",
       "      <td>2a9dA01</td>\n",
       "      <td>0.138689</td>\n",
       "    </tr>\n",
       "    <tr>\n",
       "      <th>3670</th>\n",
       "      <td>2blfA01</td>\n",
       "      <td>0.142126</td>\n",
       "    </tr>\n",
       "    <tr>\n",
       "      <th>3671</th>\n",
       "      <td>5k3xB01</td>\n",
       "      <td>0.135303</td>\n",
       "    </tr>\n",
       "    <tr>\n",
       "      <th>3672</th>\n",
       "      <td>2biiA01</td>\n",
       "      <td>0.140271</td>\n",
       "    </tr>\n",
       "    <tr>\n",
       "      <th>3673</th>\n",
       "      <td>1xdyG00</td>\n",
       "      <td>0.140908</td>\n",
       "    </tr>\n",
       "  </tbody>\n",
       "</table>\n",
       "<p>3674 rows × 2 columns</p>\n",
       "</div>"
      ],
      "text/plain": [
       "     cathDomain  2.30.30.100\n",
       "0       1xmkA00     0.137814\n",
       "1       4co8A00     0.139659\n",
       "2       3iwfB00     0.135257\n",
       "3       1r7jA00     0.139363\n",
       "4       2fq3A00     0.132161\n",
       "...         ...          ...\n",
       "3669    2a9dA01     0.138689\n",
       "3670    2blfA01     0.142126\n",
       "3671    5k3xB01     0.135303\n",
       "3672    2biiA01     0.140271\n",
       "3673    1xdyG00     0.140908\n",
       "\n",
       "[3674 rows x 2 columns]"
      ]
     },
     "execution_count": 14,
     "metadata": {},
     "output_type": "execute_result"
    }
   ],
   "source": [
    "sh3_elbo"
   ]
  },
  {
   "cell_type": "code",
   "execution_count": 15,
   "id": "ed1276c6",
   "metadata": {},
   "outputs": [],
   "source": [
    "sh3_elbo = sh3_elbo[sh3_elbo.cathDomain.isin(representatives[representatives.superfamily==\"2.30.30.100\"].cathDomain)]"
   ]
  },
  {
   "cell_type": "code",
   "execution_count": 16,
   "id": "06e2a569",
   "metadata": {},
   "outputs": [],
   "source": [
    "sh3_elbo = sh3_elbo.set_index(\"cathDomain\")[\"2.30.30.100\"].values"
   ]
  },
  {
   "cell_type": "code",
   "execution_count": 17,
   "id": "bdd5ffa4",
   "metadata": {},
   "outputs": [],
   "source": [
    "sh3_ob_elbo = pd.read_csv(\"/home/bournelab/DeepUrfold-updated_results/superfamily_models_results/2.30.30.100/elbo.csv\")\n",
    "sh3_ob_elbo = sh3_ob_elbo[sh3_ob_elbo.cathDomain.isin(representatives[representatives.superfamily==\"2.40.50.140\"].cathDomain)]\n",
    "sh3_ob_elbo = sh3_ob_elbo.set_index(\"cathDomain\")[\"2.30.30.100\"].values"
   ]
  },
  {
   "cell_type": "code",
   "execution_count": 18,
   "id": "bda67544",
   "metadata": {},
   "outputs": [],
   "source": [
    "from pylab import rcParams\n",
    "params = {\n",
    "   'axes.labelsize': 6,\n",
    "   'font.size': 12,\n",
    "   #'title.fontweight': 'bold',\n",
    "   'legend.fontsize': 10,\n",
    "   'xtick.labelsize': 6,\n",
    "   'ytick.labelsize': 6,\n",
    "   'text.usetex': True,\n",
    "   'text.latex.preamble': r'\\usepackage{xcolor}',\n",
    "   }\n",
    "rcParams.update(params)"
   ]
  },
  {
   "cell_type": "code",
   "execution_count": 19,
   "id": "519b635d",
   "metadata": {},
   "outputs": [],
   "source": [
    "%matplotlib agg\n",
    "%matplotlib agg\n",
    "fig, axd = plt.subplot_mosaic([['sh3_perm', 'ob_perm', 'sh3_term'],\n",
    "                               ['ob_term',  'legend',  'legend']],\n",
    "                              figsize=(8,5), #layout=\"constrained\",\n",
    "                              #sharex=True,\n",
    "                              sharey=True)"
   ]
  },
  {
   "cell_type": "code",
   "execution_count": 20,
   "id": "949604c1",
   "metadata": {},
   "outputs": [
    {
     "data": {
      "text/plain": [
       "{'sh3_perm': <Axes: label='sh3_perm'>,\n",
       " 'ob_perm': <Axes: label='ob_perm'>,\n",
       " 'sh3_term': <Axes: label='sh3_term'>,\n",
       " 'ob_term': <Axes: label='ob_term'>,\n",
       " 'legend': <Axes: label='legend'>}"
      ]
     },
     "execution_count": 20,
     "metadata": {},
     "output_type": "execute_result"
    }
   ],
   "source": [
    "axd"
   ]
  },
  {
   "cell_type": "code",
   "execution_count": 21,
   "id": "b4d9045f",
   "metadata": {},
   "outputs": [],
   "source": [
    "sns.kdeplot(sh3frag_to_SH3model.numpy(), label=\"SH3 TERMs\", color='#DD7C83', linestyle=\"--\", linewidth=1, ax=axd[\"sh3_term\"])\n",
    "sns.kdeplot(obfrag_to_SH3model.numpy(), label=\"OB TERMs\", color=\"#4CBFE8\", linestyle=\"--\", linewidth=1, ax=axd[\"sh3_term\"])\n",
    "sns.kdeplot(sh3_elbo, label=\"SH3 Representatives\", color=\"#BE1E2D\", linewidth=3, ax=axd[\"sh3_term\"])\n",
    "sns.kdeplot(sh3_ob_elbo, label=\"OB Representatives\", color=\"#2880B2\", linewidth=1, ax=axd[\"sh3_term\"])\n",
    "#plt.legend()\n",
    "axd[\"sh3_term\"].set_xlabel(\"-(ELBO)\")\n",
    "#axd[\"sh3_term\"].set_title(\"SH3-Only Model\")\n",
    "#plt.savefig(\"sh3_only_TERMS.png\", dpi=300)\n",
    "axd['sh3_term'].text(0.002, 81, \"(\\\\textbf{{C}})\", fontsize=10)\n",
    "axd['sh3_term'].text(0.024, 81, r\"\\textcolor[HTML]{BE1E2D}{\\textbf{SH3}} Fragments\", fontsize=10) \n",
    "axd['sh3_term'].text(0.024, 74, r\"vs an \\textcolor[HTML]{BE1E2D}{\\textbf{SH3-only}}\", fontsize=10)\n",
    "axd['sh3_term'].text(0.024, 68, \"model\", fontsize=10)\n",
    "axd['sh3_term'].xaxis.set_tick_params(labelbottom=True)\n",
    "axd['sh3_term'].tick_params(which='both', top=False, bottom=True, left=False, right=False, labelbottom=True)\n",
    "axd['sh3_term'].set_xlim(0.0, .21)\n",
    "axd['sh3_term'].set_xlim(0.001, .21)\n",
    "axd['sh3_term'].spines[['right', 'top', 'left']].set_visible(False)\n",
    "#axd['sh3_term'].xaxis.get_major_ticks()[0].label1.set_visible(False) ## set first x tick label invisible"
   ]
  },
  {
   "cell_type": "raw",
   "id": "094c6a5c",
   "metadata": {},
   "source": [
    "sh3_dir = \"/media/smb-rivanna/ed4bu/UrfoldServer/urfold_runs/multiple_loop_permutations/sh3_3/nn_model\""
   ]
  },
  {
   "cell_type": "raw",
   "id": "23552f71",
   "metadata": {},
   "source": [
    "!ls -1 /media/smb-rivanna/ed4bu/UrfoldServer/urfold_runs/multiple_loop_permutations/sh3_3/nn_model"
   ]
  },
  {
   "cell_type": "code",
   "execution_count": 22,
   "id": "1f80bb9b",
   "metadata": {},
   "outputs": [],
   "source": [
    "ob_elbo = pd.read_csv(\"/home/bournelab/DeepUrfold-updated_results/superfamily_models_results/2.40.50.140/elbo.csv\")\n",
    "ob_elbo = ob_elbo[ob_elbo.cathDomain.isin(representatives[representatives.superfamily==\"2.40.50.140\"].cathDomain)]"
   ]
  },
  {
   "cell_type": "code",
   "execution_count": 23,
   "id": "833909f0",
   "metadata": {},
   "outputs": [
    {
     "data": {
      "text/plain": [
       "array([0.13702302, 0.13286224, 0.13447182, 0.13634796, 0.1411682 ,\n",
       "       0.14154284, 0.13698421, 0.13639927, 0.13561496, 0.13601919,\n",
       "       0.13654505, 0.13530688, 0.13298307, 0.13776134, 0.13333103,\n",
       "       0.13962723, 0.13297684, 0.1374722 , 0.13185415, 0.13278729,\n",
       "       0.13433647, 0.13988537, 0.13467076, 0.13785592, 0.135196  ,\n",
       "       0.13844708, 0.13353322, 0.12755279, 0.13464396, 0.13066357,\n",
       "       0.13575527, 0.1331401 , 0.13547133, 0.13310747, 0.13413513,\n",
       "       0.13651617, 0.14398374, 0.14180899, 0.13531853, 0.13764508,\n",
       "       0.13780174, 0.13544208, 0.13358752, 0.13617432, 0.13469741,\n",
       "       0.14065768, 0.13171066, 0.13642484, 0.14679371, 0.143679  ,\n",
       "       0.13867587, 0.13659921, 0.13275048, 0.13469793, 0.13231683,\n",
       "       0.13362463, 0.13980119, 0.1369676 , 0.13777982, 0.1369508 ,\n",
       "       0.13143243, 0.13490981, 0.1300046 , 0.13877258, 0.12962829,\n",
       "       0.12964761, 0.13498046, 0.13247606, 0.13130194, 0.13050692,\n",
       "       0.1364599 , 0.13690276, 0.1378117 , 0.14394975, 0.13315365,\n",
       "       0.13332243, 0.1404472 , 0.12849367, 0.14155355, 0.13583875,\n",
       "       0.13909084, 0.12917398, 0.14062177, 0.13648796, 0.13951121,\n",
       "       0.13394682, 0.13431355, 0.1354594 , 0.14579946, 0.14394033,\n",
       "       0.13437054, 0.1312613 , 0.12845528, 0.13074951, 0.13540147,\n",
       "       0.1325059 , 0.1441699 , 0.13958092, 0.11752693, 0.13468185,\n",
       "       0.14563113, 0.13893339, 0.13484167, 0.14141811, 0.1435572 ,\n",
       "       0.12669133, 0.1419403 , 0.14120315, 0.13272005, 0.13544765,\n",
       "       0.13185269, 0.13232346, 0.13521357, 0.126779  , 0.1370835 ,\n",
       "       0.13646013, 0.12734732, 0.12881628, 0.13713792, 0.13958125,\n",
       "       0.14660382, 0.11911489, 0.14654586, 0.13583596, 0.13738091,\n",
       "       0.13588254, 0.14212216, 0.12990598, 0.13580939, 0.13682091,\n",
       "       0.12585007, 0.15002884, 0.14461559, 0.1364021 , 0.13227749,\n",
       "       0.12973386, 0.14258935, 0.12516455, 0.13487439, 0.13364841,\n",
       "       0.12816314, 0.13360268, 0.1354117 , 0.1400668 , 0.12925826,\n",
       "       0.14606726, 0.13221848, 0.13268074, 0.13836877, 0.13780175,\n",
       "       0.14300348, 0.13010088, 0.13232177, 0.11740205, 0.122554  ,\n",
       "       0.13787436, 0.12384548, 0.1349889 , 0.1424747 , 0.13978739,\n",
       "       0.15052578, 0.13112256, 0.12994255, 0.13630372, 0.14174584,\n",
       "       0.12579133, 0.12811951, 0.14684045, 0.13806674, 0.13286139,\n",
       "       0.12556331, 0.12482738, 0.13126531, 0.14589448, 0.13471456,\n",
       "       0.13827974, 0.12938064, 0.14059134, 0.14129664, 0.12861174,\n",
       "       0.12636678, 0.1244116 , 0.13148119, 0.12593214, 0.14001876,\n",
       "       0.13638233, 0.14241512, 0.15517858, 0.13024019, 0.13320915,\n",
       "       0.13842128, 0.13359955, 0.12857771, 0.1352051 , 0.1371143 ,\n",
       "       0.13692391, 0.13983497, 0.13814574, 0.14639695, 0.13414092,\n",
       "       0.13792127, 0.13930458, 0.13357356, 0.13300756, 0.12303168,\n",
       "       0.13470605, 0.13669923, 0.13032646, 0.12010899, 0.13355106,\n",
       "       0.13336547, 0.13033687, 0.13238825, 0.14278784, 0.13382922,\n",
       "       0.13008575, 0.13183716, 0.13391714, 0.13229342, 0.13033046,\n",
       "       0.13143495, 0.12008076, 0.13074218, 0.13272399, 0.1244005 ,\n",
       "       0.12101647, 0.14304942])"
      ]
     },
     "execution_count": 23,
     "metadata": {},
     "output_type": "execute_result"
    }
   ],
   "source": [
    "ob_elbo = ob_elbo.set_index(\"cathDomain\")[\"2.40.50.140\"].values\n",
    "ob_elbo"
   ]
  },
  {
   "cell_type": "code",
   "execution_count": 24,
   "id": "a58397c1",
   "metadata": {},
   "outputs": [],
   "source": [
    "ob_sh3_elbo = pd.read_csv(\"/home/bournelab/DeepUrfold-updated_results/superfamily_models_results/2.40.50.140/elbo.csv\")\n",
    "ob_sh3_elbo = ob_sh3_elbo[ob_sh3_elbo.cathDomain.isin(representatives[representatives.superfamily==\"2.30.30.100\"].cathDomain)]"
   ]
  },
  {
   "cell_type": "code",
   "execution_count": 25,
   "id": "0a3fbb13",
   "metadata": {},
   "outputs": [
    {
     "data": {
      "text/plain": [
       "array([0.13577053, 0.13424443, 0.13417234, 0.13862096, 0.13733359,\n",
       "       0.13725963, 0.14179757, 0.13260657, 0.14826992, 0.13521853,\n",
       "       0.14581756, 0.13491343, 0.13145977, 0.14913136, 0.15133844,\n",
       "       0.1489759 , 0.1430998 , 0.12979966, 0.13666771, 0.13744949,\n",
       "       0.12938333, 0.13124654, 0.1445748 , 0.13609113, 0.13265389,\n",
       "       0.12680389, 0.13945374, 0.14477243, 0.13737808, 0.13251121,\n",
       "       0.13534604, 0.13092002, 0.1296935 , 0.13111058, 0.12719344,\n",
       "       0.13797222, 0.12995288, 0.13043699, 0.12705143, 0.13325016,\n",
       "       0.12380031, 0.14168832, 0.13727614, 0.13744237, 0.13370608,\n",
       "       0.13699558, 0.12581626, 0.12865151, 0.13267799, 0.13005206,\n",
       "       0.14264672, 0.143137  , 0.13308556, 0.13415433, 0.12913464,\n",
       "       0.12142305])"
      ]
     },
     "execution_count": 25,
     "metadata": {},
     "output_type": "execute_result"
    }
   ],
   "source": [
    "ob_sh3_elbo = ob_sh3_elbo.set_index(\"cathDomain\")[\"2.40.50.140\"].values\n",
    "ob_sh3_elbo"
   ]
  },
  {
   "cell_type": "code",
   "execution_count": 26,
   "id": "e9e139bb",
   "metadata": {},
   "outputs": [],
   "source": [
    "sns.kdeplot(sh3frag_to_OBmodel.numpy(), label=\"SH3 TERMs\", color='#DD7C83', linestyle=\"--\", linewidth=1, ax=axd[\"ob_term\"])\n",
    "sns.kdeplot(obfrag_to_OBmodel.numpy(), label=\"OB TERMs\", color=\"#4CBFE8\", linestyle=\"--\", linewidth=1, ax=axd[\"ob_term\"])\n",
    "sns.kdeplot(ob_elbo, label=\"OB Representatives\", color=\"#2880B2\", linewidth=3, ax=axd[\"ob_term\"])\n",
    "sns.kdeplot(ob_sh3_elbo, label=\"SH3 Representatives\", color=\"#BE1E2D\", linewidth=1, ax=axd[\"ob_term\"])\n",
    "#plt.legend()\n",
    "axd[\"ob_term\"].set_xlabel(\"-(ELBO)\")\n",
    "#axd[\"ob_term\"].set_title(\"OB-Only Model\")\n",
    "#plt.savefig(\"ob_only_TERMS.png\", dpi=300)\n",
    "axd['ob_term'].text(0.004, 81, \"(\\\\textbf{{D}})\", fontsize=10)\n",
    "axd['ob_term'].text(0.026, 81, r\"\\textcolor[HTML]{2880B2}{\\textbf{OB}} Fragments\", fontsize=10) \n",
    "axd['ob_term'].text(0.026, 74, r\"vs an \\textcolor[HTML]{2880B2}{\\textbf{OB-only}}\", fontsize=10)\n",
    "axd['ob_term'].text(0.026, 68, \"model\", fontsize=10)\n",
    "axd['ob_term'].xaxis.set_tick_params(labelbottom=True)\n",
    "axd['ob_term'].set_xlim(0.0, .21)\n",
    "axd['ob_term'].set_xlim(0.001, .21)\n",
    "axd['ob_term'].spines[['right', 'top']].set_visible(False)\n",
    "#axd['ob_term'].xaxis.get_major_ticks()[0].label1.set_visible(False) ## set first x tick label invisible"
   ]
  },
  {
   "cell_type": "code",
   "execution_count": 27,
   "id": "7d350107",
   "metadata": {},
   "outputs": [],
   "source": [
    "distance_file = \"/home/bournelab/DeepUrfold-updated_results/comparison/tmalign/all_distances.csv\"\n",
    "distances = pd.read_csv(distance_file)\n",
    "distances.chain1 = distances.chain1.apply(lambda s: s.split(\"/\")[-1].split(\".\")[0])\n",
    "distances.chain2 = distances.chain2.apply(lambda s: s.split(\"/\")[-1].split(\".\")[0])"
   ]
  },
  {
   "cell_type": "code",
   "execution_count": 28,
   "id": "6c8b8b00",
   "metadata": {},
   "outputs": [
    {
     "data": {
      "text/html": [
       "<div>\n",
       "<style scoped>\n",
       "    .dataframe tbody tr th:only-of-type {\n",
       "        vertical-align: middle;\n",
       "    }\n",
       "\n",
       "    .dataframe tbody tr th {\n",
       "        vertical-align: top;\n",
       "    }\n",
       "\n",
       "    .dataframe thead th {\n",
       "        text-align: right;\n",
       "    }\n",
       "</style>\n",
       "<table border=\"1\" class=\"dataframe\">\n",
       "  <thead>\n",
       "    <tr style=\"text-align: right;\">\n",
       "      <th></th>\n",
       "      <th>Unnamed: 0</th>\n",
       "      <th>chain1</th>\n",
       "      <th>chain2</th>\n",
       "      <th>rmsd</th>\n",
       "      <th>moving_tm_score</th>\n",
       "      <th>fixed_tm_score</th>\n",
       "    </tr>\n",
       "  </thead>\n",
       "  <tbody>\n",
       "    <tr>\n",
       "      <th>0</th>\n",
       "      <td>0</td>\n",
       "      <td>1xmkA00</td>\n",
       "      <td>4co8A00</td>\n",
       "      <td>3.08</td>\n",
       "      <td>0.55923</td>\n",
       "      <td>0.47596</td>\n",
       "    </tr>\n",
       "    <tr>\n",
       "      <th>1</th>\n",
       "      <td>1</td>\n",
       "      <td>1xmkA00</td>\n",
       "      <td>3iwfB00</td>\n",
       "      <td>3.35</td>\n",
       "      <td>0.48692</td>\n",
       "      <td>0.45279</td>\n",
       "    </tr>\n",
       "    <tr>\n",
       "      <th>2</th>\n",
       "      <td>2</td>\n",
       "      <td>1xmkA00</td>\n",
       "      <td>1r7jA00</td>\n",
       "      <td>2.60</td>\n",
       "      <td>0.62223</td>\n",
       "      <td>0.56055</td>\n",
       "    </tr>\n",
       "    <tr>\n",
       "      <th>3</th>\n",
       "      <td>3</td>\n",
       "      <td>1xmkA00</td>\n",
       "      <td>2fq3A00</td>\n",
       "      <td>2.32</td>\n",
       "      <td>0.54607</td>\n",
       "      <td>0.51675</td>\n",
       "    </tr>\n",
       "    <tr>\n",
       "      <th>4</th>\n",
       "      <td>4</td>\n",
       "      <td>1xmkA00</td>\n",
       "      <td>5it3A00</td>\n",
       "      <td>2.32</td>\n",
       "      <td>0.55082</td>\n",
       "      <td>0.52018</td>\n",
       "    </tr>\n",
       "  </tbody>\n",
       "</table>\n",
       "</div>"
      ],
      "text/plain": [
       "   Unnamed: 0   chain1   chain2  rmsd  moving_tm_score  fixed_tm_score\n",
       "0           0  1xmkA00  4co8A00  3.08          0.55923         0.47596\n",
       "1           1  1xmkA00  3iwfB00  3.35          0.48692         0.45279\n",
       "2           2  1xmkA00  1r7jA00  2.60          0.62223         0.56055\n",
       "3           3  1xmkA00  2fq3A00  2.32          0.54607         0.51675\n",
       "4           4  1xmkA00  5it3A00  2.32          0.55082         0.52018"
      ]
     },
     "execution_count": 28,
     "metadata": {},
     "output_type": "execute_result"
    }
   ],
   "source": [
    "distances.head()"
   ]
  },
  {
   "cell_type": "code",
   "execution_count": 29,
   "id": "dc15a8b1",
   "metadata": {},
   "outputs": [],
   "source": [
    "#Get scores for representives vs all with a score <=0.3\n",
    "dissimalar_to_sh3 = distances[\n",
    "    (distances.chain1.isin(representatives[representatives.superfamily==\"2.30.30.100\"].cathDomain))&\\\n",
    "    (distances.moving_tm_score<=0.3)]"
   ]
  },
  {
   "cell_type": "code",
   "execution_count": 30,
   "id": "897ae049",
   "metadata": {},
   "outputs": [],
   "source": [
    "sh3_background_elbo = pd.read_csv(\"/home/bournelab/DeepUrfold-updated_results/superfamily_models_results/2.30.30.100/elbo.csv\")\n",
    "sh3_background_elbo = sh3_background_elbo[sh3_background_elbo.cathDomain.isin(dissimalar_to_sh3.chain2)]\n",
    "sh3_background_elbo = sh3_background_elbo.set_index(\"cathDomain\")[\"2.30.30.100\"].values"
   ]
  },
  {
   "cell_type": "code",
   "execution_count": 31,
   "id": "61322c0f",
   "metadata": {},
   "outputs": [
    {
     "data": {
      "text/plain": [
       "array([0.11957394, 0.13818094, 0.13292186, ..., 0.14212646, 0.14027086,\n",
       "       0.14090754])"
      ]
     },
     "execution_count": 31,
     "metadata": {},
     "output_type": "execute_result"
    }
   ],
   "source": [
    "sh3_background_elbo"
   ]
  },
  {
   "cell_type": "code",
   "execution_count": 32,
   "id": "4349ad66",
   "metadata": {},
   "outputs": [],
   "source": [
    "sh3_perms_to_sh3 = torch.load(\"../permutations/SH3_perms_vs_SH3_model_2ylbC00_with_rots-elbo-elbo.pt\")"
   ]
  },
  {
   "cell_type": "code",
   "execution_count": 33,
   "id": "72c8c4ea",
   "metadata": {},
   "outputs": [],
   "source": [
    "import numpy as np"
   ]
  },
  {
   "cell_type": "code",
   "execution_count": 34,
   "id": "12a8b796",
   "metadata": {},
   "outputs": [],
   "source": [
    "sh3_perms_to_sh3_labels = np.load(\"../permutations/SH3_perms_vs_SH3_model_2ylbC00_with_rots-labels-elbo-labels-elbo.npy\")"
   ]
  },
  {
   "cell_type": "code",
   "execution_count": 35,
   "id": "f22d4349",
   "metadata": {},
   "outputs": [],
   "source": [
    "sh3_perms_to_sh3_pd = pd.DataFrame({\"ELBO\":sh3_perms_to_sh3, \"label\":sh3_perms_to_sh3_labels})"
   ]
  },
  {
   "cell_type": "code",
   "execution_count": 36,
   "id": "7bcfd80e",
   "metadata": {},
   "outputs": [],
   "source": [
    "sh3_perms_to_sh3_pd = sh3_perms_to_sh3_pd.set_index(\"label\")"
   ]
  },
  {
   "cell_type": "code",
   "execution_count": 37,
   "id": "71d028a3",
   "metadata": {},
   "outputs": [
    {
     "data": {
      "text/html": [
       "<div>\n",
       "<style scoped>\n",
       "    .dataframe tbody tr th:only-of-type {\n",
       "        vertical-align: middle;\n",
       "    }\n",
       "\n",
       "    .dataframe tbody tr th {\n",
       "        vertical-align: top;\n",
       "    }\n",
       "\n",
       "    .dataframe thead th {\n",
       "        text-align: right;\n",
       "    }\n",
       "</style>\n",
       "<table border=\"1\" class=\"dataframe\">\n",
       "  <thead>\n",
       "    <tr style=\"text-align: right;\">\n",
       "      <th></th>\n",
       "      <th>ELBO</th>\n",
       "    </tr>\n",
       "    <tr>\n",
       "      <th>label</th>\n",
       "      <th></th>\n",
       "    </tr>\n",
       "  </thead>\n",
       "  <tbody>\n",
       "    <tr>\n",
       "      <th>2ylbC00_6-2-4-5-3-1_target.BL00020001.pdb</th>\n",
       "      <td>0.137741</td>\n",
       "    </tr>\n",
       "    <tr>\n",
       "      <th>2ylbC00_4-5-3-6-2-1_target.BL00020001.pdb</th>\n",
       "      <td>0.139505</td>\n",
       "    </tr>\n",
       "    <tr>\n",
       "      <th>2ylbC00_3-1-5-6-2-4_target.BL00040001.pdb</th>\n",
       "      <td>0.142648</td>\n",
       "    </tr>\n",
       "    <tr>\n",
       "      <th>2ylbC00_1-5-4-2-3-6_target.BL00020001.pdb</th>\n",
       "      <td>0.143521</td>\n",
       "    </tr>\n",
       "    <tr>\n",
       "      <th>2ylbC00_1-5-3-4-2-6_target.BL00030001.pdb</th>\n",
       "      <td>0.143566</td>\n",
       "    </tr>\n",
       "    <tr>\n",
       "      <th>2ylbC00_2-1-4-5-3-6_target.BL00010001.pdb</th>\n",
       "      <td>0.144235</td>\n",
       "    </tr>\n",
       "    <tr>\n",
       "      <th>2ylbC00_1-5-3-6-2-4_target.BL00040001.pdb</th>\n",
       "      <td>0.144911</td>\n",
       "    </tr>\n",
       "    <tr>\n",
       "      <th>2ylbC00_4-5-3-1-2-6_target.BL00020001.pdb</th>\n",
       "      <td>0.145105</td>\n",
       "    </tr>\n",
       "    <tr>\n",
       "      <th>2ylbC00_5-3-1-4-2-6_target.BL00040001.pdb</th>\n",
       "      <td>0.145132</td>\n",
       "    </tr>\n",
       "    <tr>\n",
       "      <th>2ylbC00_5-1-4-2-3-6_target.BL00020001.pdb</th>\n",
       "      <td>0.145621</td>\n",
       "    </tr>\n",
       "    <tr>\n",
       "      <th>2ylbC00_3-1-5-4-2-6_target.BL00050001.pdb</th>\n",
       "      <td>0.145888</td>\n",
       "    </tr>\n",
       "    <tr>\n",
       "      <th>2ylbC00_5-3-6-2-1-4_target.BL00040001.pdb</th>\n",
       "      <td>0.145989</td>\n",
       "    </tr>\n",
       "    <tr>\n",
       "      <th>2ylbC00_1-4-5-3-6-2_target.BL00010001.pdb</th>\n",
       "      <td>0.146391</td>\n",
       "    </tr>\n",
       "    <tr>\n",
       "      <th>2ylbC00_6-2-1-4-5-3_target.BL00050001.pdb</th>\n",
       "      <td>0.146760</td>\n",
       "    </tr>\n",
       "    <tr>\n",
       "      <th>2ylbC00_1-2-4-5-3-6_target.BL00040001.pdb</th>\n",
       "      <td>0.146781</td>\n",
       "    </tr>\n",
       "    <tr>\n",
       "      <th>2ylbC00_6-2-3-1-4-5_target.BL00050001.pdb</th>\n",
       "      <td>0.147748</td>\n",
       "    </tr>\n",
       "    <tr>\n",
       "      <th>2ylbC00_3-6-2-1-4-5_target.BL00030001.pdb</th>\n",
       "      <td>0.148401</td>\n",
       "    </tr>\n",
       "    <tr>\n",
       "      <th>2ylbC00_3-6-2-4-5-1_target.BL00050001.pdb</th>\n",
       "      <td>0.148829</td>\n",
       "    </tr>\n",
       "    <tr>\n",
       "      <th>2ylbC00_6-2-1-5-3-4_target.BL00030001.pdb</th>\n",
       "      <td>0.149193</td>\n",
       "    </tr>\n",
       "    <tr>\n",
       "      <th>2ylbC00_4-5-1-2-3-6_target.BL00020001.pdb</th>\n",
       "      <td>0.149272</td>\n",
       "    </tr>\n",
       "    <tr>\n",
       "      <th>2ylbC00_6-2-3-1-5-4_target.BL00040001.pdb</th>\n",
       "      <td>0.149544</td>\n",
       "    </tr>\n",
       "    <tr>\n",
       "      <th>2ylbC00_4-2-3-1-5-6_target.BL00020001.pdb</th>\n",
       "      <td>0.150113</td>\n",
       "    </tr>\n",
       "    <tr>\n",
       "      <th>2ylbC00_4-5-6-2-3-1_target.BL00040001.pdb</th>\n",
       "      <td>0.150167</td>\n",
       "    </tr>\n",
       "    <tr>\n",
       "      <th>2ylbC00_3-1-2-4-5-6_target.BL00030001.pdb</th>\n",
       "      <td>0.150337</td>\n",
       "    </tr>\n",
       "    <tr>\n",
       "      <th>2ylbC00_3-6-2-1-5-4_target.BL00050001.pdb</th>\n",
       "      <td>0.150373</td>\n",
       "    </tr>\n",
       "    <tr>\n",
       "      <th>2ylbC00_4-2-1-5-3-6_target.BL00030001.pdb</th>\n",
       "      <td>0.150676</td>\n",
       "    </tr>\n",
       "    <tr>\n",
       "      <th>2ylbC00_3-4-5-1-2-6_target.BL00010001.pdb</th>\n",
       "      <td>0.151023</td>\n",
       "    </tr>\n",
       "    <tr>\n",
       "      <th>2ylbC00_2-3-1-4-5-6_target.BL00010001.pdb</th>\n",
       "      <td>0.151964</td>\n",
       "    </tr>\n",
       "    <tr>\n",
       "      <th>2ylbC00_6-2-3-4-5-1_target.BL00020001.pdb</th>\n",
       "      <td>0.152588</td>\n",
       "    </tr>\n",
       "    <tr>\n",
       "      <th>2ylbC00_3-1-4-5-6-2_target.BL00040001.pdb</th>\n",
       "      <td>0.152635</td>\n",
       "    </tr>\n",
       "    <tr>\n",
       "      <th>2ylbC00_1-4-5-6-2-3_target.BL00010001.pdb</th>\n",
       "      <td>0.154287</td>\n",
       "    </tr>\n",
       "    <tr>\n",
       "      <th>2ylbC00_3-4-2-1-5-6_target.BL00040001.pdb</th>\n",
       "      <td>0.154321</td>\n",
       "    </tr>\n",
       "    <tr>\n",
       "      <th>2ylbC00_5-6-2-3-1-4_target.BL00030001.pdb</th>\n",
       "      <td>0.157250</td>\n",
       "    </tr>\n",
       "    <tr>\n",
       "      <th>2ylbC00_3-4-5-6-2-1_target.BL00020001.pdb</th>\n",
       "      <td>0.160236</td>\n",
       "    </tr>\n",
       "    <tr>\n",
       "      <th>2ylbC00_1-5-6-2-3-4_target.BL00050001.pdb</th>\n",
       "      <td>0.161274</td>\n",
       "    </tr>\n",
       "  </tbody>\n",
       "</table>\n",
       "</div>"
      ],
      "text/plain": [
       "                                               ELBO\n",
       "label                                              \n",
       "2ylbC00_6-2-4-5-3-1_target.BL00020001.pdb  0.137741\n",
       "2ylbC00_4-5-3-6-2-1_target.BL00020001.pdb  0.139505\n",
       "2ylbC00_3-1-5-6-2-4_target.BL00040001.pdb  0.142648\n",
       "2ylbC00_1-5-4-2-3-6_target.BL00020001.pdb  0.143521\n",
       "2ylbC00_1-5-3-4-2-6_target.BL00030001.pdb  0.143566\n",
       "2ylbC00_2-1-4-5-3-6_target.BL00010001.pdb  0.144235\n",
       "2ylbC00_1-5-3-6-2-4_target.BL00040001.pdb  0.144911\n",
       "2ylbC00_4-5-3-1-2-6_target.BL00020001.pdb  0.145105\n",
       "2ylbC00_5-3-1-4-2-6_target.BL00040001.pdb  0.145132\n",
       "2ylbC00_5-1-4-2-3-6_target.BL00020001.pdb  0.145621\n",
       "2ylbC00_3-1-5-4-2-6_target.BL00050001.pdb  0.145888\n",
       "2ylbC00_5-3-6-2-1-4_target.BL00040001.pdb  0.145989\n",
       "2ylbC00_1-4-5-3-6-2_target.BL00010001.pdb  0.146391\n",
       "2ylbC00_6-2-1-4-5-3_target.BL00050001.pdb  0.146760\n",
       "2ylbC00_1-2-4-5-3-6_target.BL00040001.pdb  0.146781\n",
       "2ylbC00_6-2-3-1-4-5_target.BL00050001.pdb  0.147748\n",
       "2ylbC00_3-6-2-1-4-5_target.BL00030001.pdb  0.148401\n",
       "2ylbC00_3-6-2-4-5-1_target.BL00050001.pdb  0.148829\n",
       "2ylbC00_6-2-1-5-3-4_target.BL00030001.pdb  0.149193\n",
       "2ylbC00_4-5-1-2-3-6_target.BL00020001.pdb  0.149272\n",
       "2ylbC00_6-2-3-1-5-4_target.BL00040001.pdb  0.149544\n",
       "2ylbC00_4-2-3-1-5-6_target.BL00020001.pdb  0.150113\n",
       "2ylbC00_4-5-6-2-3-1_target.BL00040001.pdb  0.150167\n",
       "2ylbC00_3-1-2-4-5-6_target.BL00030001.pdb  0.150337\n",
       "2ylbC00_3-6-2-1-5-4_target.BL00050001.pdb  0.150373\n",
       "2ylbC00_4-2-1-5-3-6_target.BL00030001.pdb  0.150676\n",
       "2ylbC00_3-4-5-1-2-6_target.BL00010001.pdb  0.151023\n",
       "2ylbC00_2-3-1-4-5-6_target.BL00010001.pdb  0.151964\n",
       "2ylbC00_6-2-3-4-5-1_target.BL00020001.pdb  0.152588\n",
       "2ylbC00_3-1-4-5-6-2_target.BL00040001.pdb  0.152635\n",
       "2ylbC00_1-4-5-6-2-3_target.BL00010001.pdb  0.154287\n",
       "2ylbC00_3-4-2-1-5-6_target.BL00040001.pdb  0.154321\n",
       "2ylbC00_5-6-2-3-1-4_target.BL00030001.pdb  0.157250\n",
       "2ylbC00_3-4-5-6-2-1_target.BL00020001.pdb  0.160236\n",
       "2ylbC00_1-5-6-2-3-4_target.BL00050001.pdb  0.161274"
      ]
     },
     "execution_count": 37,
     "metadata": {},
     "output_type": "execute_result"
    }
   ],
   "source": [
    "sh3_perms_to_sh3_pd.sort_values(\"ELBO\")"
   ]
  },
  {
   "cell_type": "code",
   "execution_count": 38,
   "id": "08ffb6e6",
   "metadata": {},
   "outputs": [
    {
     "data": {
      "text/plain": [
       "(tensor(0.1613), tensor(0.1377))"
      ]
     },
     "execution_count": 38,
     "metadata": {},
     "output_type": "execute_result"
    }
   ],
   "source": [
    "sh3_perms_to_sh3.max(), sh3_perms_to_sh3.min()"
   ]
  },
  {
   "cell_type": "code",
   "execution_count": 39,
   "id": "c96045e7",
   "metadata": {},
   "outputs": [],
   "source": [
    "ob_perms_to_sh3 = torch.load(\"../permutations/ob_perms_vs_SH3_elbo-elbo-elbo.pt\")"
   ]
  },
  {
   "cell_type": "code",
   "execution_count": 40,
   "id": "125ef424",
   "metadata": {},
   "outputs": [],
   "source": [
    "sh3_rep_to_sh3 = torch.load(\"../permutations/2ylbC00_wt__vs_SH3_model_with_rots-elbo-elbo.pt\")\n",
    "ob_rep_to_sh3 = torch.load(\"1uebA03_vs_SH3_elbo_v2-elbo-elbo.pt\")"
   ]
  },
  {
   "cell_type": "code",
   "execution_count": 41,
   "id": "f9b95521",
   "metadata": {},
   "outputs": [
    {
     "data": {
      "text/plain": [
       "(tensor(0.1495), tensor(0.1559))"
      ]
     },
     "execution_count": 41,
     "metadata": {},
     "output_type": "execute_result"
    }
   ],
   "source": [
    "sh3_rep_to_sh3.min(), sh3_rep_to_sh3.max()"
   ]
  },
  {
   "cell_type": "code",
   "execution_count": 42,
   "id": "9d90e656",
   "metadata": {},
   "outputs": [],
   "source": [
    "sns.kdeplot(sh3_background_elbo, label=\"Background\", color=\"#A09747\", linewidth=1, ax=axd['sh3_perm'])\n",
    "sns.kdeplot(sh3_elbo, label=\"SH3 Representatives\", color=\"#BE1E2D\", linewidth=3, ax=axd['sh3_perm'])\n",
    "sns.kdeplot(sh3_ob_elbo, label=\"OB Representatives\", color=\"#2880B2\", linewidth=1, ax=axd['sh3_perm'])\n",
    "sns.kdeplot(sh3_perms_to_sh3.numpy(), label=\"SH3 Perumtants\", color='#DD7C83', linewidth=1, ax=axd['sh3_perm'])\n",
    "#sns.kdeplot(ob_perms_to_sh3.numpy(), label=\"OB Perumtants\", color='#4CBFE8', linewidth=1, ax=axd['sh3_perm'])\n",
    "sns.rugplot(sh3_rep_to_sh3, color=\"#DD7C83\", label=\"2ylbC00 (SH3 WT) tick\", linewidth=1, ax=axd['sh3_perm'])\n",
    "#sns.rugplot(ob_rep_to_sh3, color=\"#2880B2\", label=\"1uebA03 (OB WT) tick\", linewidth=1, ax=axd['sh3_perm'])\n",
    "#plt.title(\"SH3-Only Model\")\n",
    "#plt.legend()\n",
    "axd['sh3_perm'].set_xlabel(\"-(ELBO)\")\n",
    "axd['sh3_perm'].text(0.004, 81, \"(\\\\textbf{{A}})\", fontsize=10)\n",
    "axd['sh3_perm'].text(0.026, 81, r\"\\textcolor[HTML]{BE1E2D}{\\textbf{SH3}} Permutants\", fontsize=10) \n",
    "axd['sh3_perm'].text(0.026, 74, r\"vs an \\textcolor[HTML]{BE1E2D}{\\textbf{SH3-only}}\", fontsize=10)\n",
    "axd['sh3_perm'].text(0.026, 68, \"model\", fontsize=10)\n",
    "#plt.savefig(\"sh3_only_permutants.png\", dpi=300)\n",
    "\n",
    "# im_sh3_perm = plt.imread(\"/home/bournelab/DeepUrfold/DeepUrfold/figures/1kq2A00_vs_MLP.png\")\n",
    "# imagebox_sh3_perm = OffsetImage(im_sh3_perm, zoom=0.04)\n",
    "# imagebox_sh3_perm.image.axes = axd['sh3_perm']\n",
    "\n",
    "# ab_sh3_perm = AnnotationBbox(imagebox_sh3_perm, (.25,.55),\n",
    "#     #xybox=(120., -80.),\n",
    "#     xycoords='axes fraction',\n",
    "#     boxcoords=\"axes fraction\",\n",
    "#     #pad=0.5,\n",
    "#     frameon=False,\n",
    "# )\n",
    "# axd['sh3_perm'].add_artist(ab_sh3_perm)\n",
    "\n",
    "axd['sh3_perm'].xaxis.set_tick_params(labelbottom=True)\n",
    "axd['sh3_perm'].set_xlim(0.0, .21)\n",
    "axd['sh3_perm'].set_xlim(0.001, .21)\n",
    "axd['sh3_perm'].spines[['right', 'top']].set_visible(False)\n",
    "#axd['sh3_perm'].xaxis.get_major_ticks()[0].label1.set_visible(False) ## set first x tick label invisible"
   ]
  },
  {
   "cell_type": "markdown",
   "id": "2453072b",
   "metadata": {},
   "source": [
    "# sh3_perms_to_sh3.min(), sh3_perms_to_sh3.max(), sh3_perms_to_sh3.mean()"
   ]
  },
  {
   "cell_type": "code",
   "execution_count": 43,
   "id": "ed1d1734",
   "metadata": {},
   "outputs": [],
   "source": [
    "#Get scores for representives vs all with a score <=0.3\n",
    "dissimalar_to_ob = distances[\n",
    "    (distances.chain1.isin(representatives[representatives.superfamily==\"2.40.50.140\"].cathDomain))&\\\n",
    "    (distances.moving_tm_score<=0.3)]"
   ]
  },
  {
   "cell_type": "code",
   "execution_count": 44,
   "id": "9e2cc905",
   "metadata": {},
   "outputs": [],
   "source": [
    "ob_background_elbo = pd.read_csv(\"/home/bournelab/DeepUrfold-updated_results/superfamily_models_results/2.40.50.140/elbo.csv\")\n",
    "ob_background_elbo = ob_background_elbo[ob_background_elbo.cathDomain.isin(dissimalar_to_ob.chain2)]\n",
    "ob_background_elbo = ob_background_elbo.set_index(\"cathDomain\")[\"2.40.50.140\"].values"
   ]
  },
  {
   "cell_type": "code",
   "execution_count": 45,
   "id": "6ed7e67f",
   "metadata": {},
   "outputs": [],
   "source": [
    "sh3_perms_to_ob = torch.load(\"../permutations/sh3_perms_vs_OB_elbo-elbo-elbo.pt\")\n",
    "ob_perms_to_ob = torch.load(\"../permutations/ob_perms_1bkbA02_vs_OB_elbo-elbo-elbo.pt\")"
   ]
  },
  {
   "cell_type": "code",
   "execution_count": 46,
   "id": "f9e0b995",
   "metadata": {},
   "outputs": [],
   "source": [
    "sh3_rep_to_ob = torch.load(\"../permutations/1u1sA00_rots-elbo-elbo.pt\")\n",
    "ob_rep_to_ob = torch.load(\"../permutations/1bkbA02_rots-elbo-elbo.pt\")"
   ]
  },
  {
   "cell_type": "code",
   "execution_count": 47,
   "id": "e4805413",
   "metadata": {},
   "outputs": [],
   "source": [
    "sns.kdeplot(ob_background_elbo, label=\"Background\", color=\"#A09747\", linewidth=1, ax=axd['ob_perm'])\n",
    "sns.kdeplot(ob_elbo, label=\"OB Representatives\", color=\"#2880B2\", linewidth=3, ax=axd['ob_perm'])\n",
    "sns.kdeplot(ob_sh3_elbo, label=\"SH3 Representatives\", color=\"#BE1E2D\", linewidth=1, ax=axd['ob_perm'])\n",
    "#sns.kdeplot(sh3_perms_to_ob.numpy(), label=\"SH3 Perumtants\", color='#DD7C83', linewidth=1, ax=axd['ob_perm'])\n",
    "sns.kdeplot(ob_perms_to_ob.numpy(), label=\"OB Perumtants\", color='#4CBFE8', linewidth=1, ax=axd['ob_perm'])\n",
    "#sns.rugplot(sh3_rep_to_ob, color=\"#BE1E2D\", label=\"1kq2A00 (SH3 WT) tick\", linewidth=1, ax=axd['ob_perm'])\n",
    "sns.rugplot(ob_rep_to_ob, color=\"#4CBFE8\", label=\"1uebA03 (OB WT) tick\", linewidth=1, ax=axd['ob_perm'])\n",
    "#plt.title(\"OB-Only Model\")\n",
    "#plt.legend()\n",
    "axd['ob_perm'].set_xlabel(\"-(ELBO)\")\n",
    "axd['ob_perm'].text(0.002, 81, \"(\\\\textbf{{B}})\", fontsize=10)\n",
    "axd['ob_perm'].text(0.024, 81, r\"\\textcolor[HTML]{2880B2}{\\textbf{OB}} Permutants\", fontsize=10) \n",
    "axd['ob_perm'].text(0.024, 74, r\"vs an \\textcolor[HTML]{2880B2}{\\textbf{OB-only}}\", fontsize=10)\n",
    "axd['ob_perm'].text(0.024, 68, \"model\", fontsize=10)\n",
    "#plt.savefig(\"ob_only_permutants.png\", dpi=300, bbox_inches=\"tight\")\n",
    "\n",
    "# im_ob_perm = plt.imread(\"/home/bournelab/DeepUrfold/DeepUrfold/figures/1uebA03_vs_MLP.png\")\n",
    "# imagebox_ob_perm = OffsetImage(im_ob_perm, zoom=0.04)\n",
    "# imagebox_ob_perm.image.axes = axd['ob_perm']\n",
    "\n",
    "# ab_ob_perm = AnnotationBbox(imagebox_ob_perm, (.25,.55),\n",
    "#     #xybox=(120., -80.),\n",
    "#     xycoords='axes fraction',\n",
    "#     boxcoords=\"axes fraction\",\n",
    "#     #pad=0.5,\n",
    "#     frameon=False,\n",
    "# )\n",
    "# axd['ob_perm'].add_artist(ab_ob_perm)\n",
    "\n",
    "axd['ob_perm'].xaxis.set_tick_params(labelbottom=True)\n",
    "axd['ob_perm'].tick_params(which='both', top=False, bottom=True, left=False, right=False, labelbottom=True)\n",
    "axd['ob_perm'].set_xlabel(\"-(ELBO)\")\n",
    "axd['ob_perm'].set_xlim(0.001, .21)\n",
    "axd['ob_perm'].spines[['right', 'top', 'left']].set_visible(False)"
   ]
  },
  {
   "cell_type": "code",
   "execution_count": 48,
   "id": "b537bfe1",
   "metadata": {},
   "outputs": [],
   "source": [
    "axd['legend'].plot([], [], label=\"SH3 Representatives\", color=\"#BE1E2D\")\n",
    "axd['legend'].plot([], [], label=\"SH3 Permutants (derived from 2ylbC00 SH3 wild-type)\", color='#DD7C83')\n",
    "axd['legend'].plot([], [], label=\"SH3 Fragments (TERMs derived from 2ylbC00 SH3 wild-type)\", color='#DD7C83', linestyle=\"--\")\n",
    "axd['legend'].plot([], [], label=\"2ylbC00 SH3 wild-type, 500 random rotations (x-axis ticks)\", color=\"black\", linewidth=1, markerfacecolor=\"#DD7C83\", markeredgecolor=\"#BE1E2D\", marker=2)\n",
    "axd['legend'].plot([], [], label=\"OB Representatives\", color=\"#2880B2\")\n",
    "axd['legend'].plot([], [], label=\"OB Permutatants (derived from 1bkbA02 OB wild-type)\", color='#4CBFE8')\n",
    "axd['legend'].plot([], [], label=\"OB Fragments (TERMs derived from 1bkbA02 OB wild-type)\", color='#4CBFE8', linestyle=\"--\")\n",
    "axd['legend'].plot([], [], label=\"1bkbA02 OB wild-type, 500 random rotations (x-axis ticks)\", color=\"black\", linewidth=1, markerfacecolor=\"#4CBFE8\", markeredgecolor=\"#2880B2\", marker=2)\n",
    "axd['legend'].plot([], [], label=\"Background (TM-Score $\\leq$ 0.3 to model representatives)\", color=\"#A09747\")\n",
    "axd['legend'].axis('off')\n",
    "axd['legend'].legend(loc='center', frameon=False)\n",
    "#plt.subplots_adjust(wspace=0.05, hspace=0.2)\n",
    "plt.tight_layout()\n",
    "axd['ob_perm'].set_xlabel(\"-(ELBO)\")\n",
    "plt.savefig(\"4panels_2ylbC00_1bkbA02.eps\", dpi=600)\n",
    "plt.savefig(\"4panels_2ylbC00_1bkbA02.svg\", dpi=600)\n",
    "plt.savefig(\"4panels_2ylbC00_1bkbA02.pdf\", dpi=600)\n",
    "plt.savefig(\"4panels_2ylbC00_1bkbA02.png\", dpi=600)"
   ]
  },
  {
   "cell_type": "code",
   "execution_count": 49,
   "id": "3a0797b5",
   "metadata": {},
   "outputs": [
    {
     "data": {
      "image/png": "[encoded data removed]",
      "text/plain": [
       "<Figure size 800x500 with 5 Axes>"
      ]
     },
     "metadata": {},
     "output_type": "display_data"
    }
   ],
   "source": [
    "%matplotlib inline\n",
    "plt.show()"
   ]
  },
  {
   "cell_type": "code",
   "execution_count": null,
   "id": "45717ec3",
   "metadata": {},
   "outputs": [],
   "source": []
  },
  {
   "cell_type": "code",
   "execution_count": null,
   "id": "d6f2581c",
   "metadata": {},
   "outputs": [],
   "source": []
  }
 ],
 "metadata": {
  "kernelspec": {
   "display_name": "Python 3 (ipykernel)",
   "language": "python",
   "name": "python3"
  },
  "language_info": {
   "codemirror_mode": {
    "name": "ipython",
    "version": 3
   },
   "file_extension": ".py",
   "mimetype": "text/x-python",
   "name": "python",
   "nbconvert_exporter": "python",
   "pygments_lexer": "ipython3",
   "version": "3.10.0"
  }
 },
 "nbformat": 4,
 "nbformat_minor": 5
}
